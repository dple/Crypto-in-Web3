{
 "cells": [
  {
   "cell_type": "code",
   "execution_count": 1,
   "id": "e08d2ff7-e73c-4f82-b902-234a184fc512",
   "metadata": {},
   "outputs": [],
   "source": [
    "from py_ecc.bn128 import G1, G2, multiply, add, neg, curve_order, Z1, pairing\n",
    "import galois\n",
    "from functools import reduce\n",
    "import numpy as np\n",
    "import random"
   ]
  },
  {
   "cell_type": "code",
   "execution_count": 2,
   "id": "8d154712-ad17-4d86-ae53-3e94db4237ad",
   "metadata": {},
   "outputs": [],
   "source": [
    "def generate_powers_of_tau(tau, degree, point):\n",
    "    return [multiply(point, int(tau ** i)) for i in range(degree + 1)]\n",
    "\n",
    "def inner_product(ec_points, coeffs):    \n",
    "    # Check if number of ec_points equal to the one of coeffs\n",
    "    assert len(coeffs) == len(ec_points), \"Check failed\"\n",
    "\n",
    "    return reduce(add, (multiply(point, int(coeff)) for point, coeff in zip(ec_points, coeffs)), Z1)"
   ]
  },
  {
   "cell_type": "code",
   "execution_count": 3,
   "id": "2175eacd-bec3-4d36-a37f-555638059d57",
   "metadata": {},
   "outputs": [
    {
     "name": "stdout",
     "output_type": "stream",
     "text": [
      "Initializing a large field, this may take a while...\n",
      "Initialization completed. Start computation ...\n"
     ]
    }
   ],
   "source": [
    "print(\"Initializing a large field, this may take a while...\")\n",
    "p = curve_order\n",
    "GF = galois.GF(p)\n",
    "print(\"Initialization completed. Start computation ...\")"
   ]
  },
  {
   "cell_type": "code",
   "execution_count": 4,
   "id": "604977a2-bdb3-4ad3-ad03-e057e0c9c344",
   "metadata": {},
   "outputs": [],
   "source": [
    "def commit_poly(ec_points, polyX):\n",
    "    return inner_product(ec_points, polyX.coeffs[::-1])"
   ]
  },
  {
   "cell_type": "code",
   "execution_count": 6,
   "id": "9b7d6515-dec8-4a39-b9d6-aaa91edcd5e3",
   "metadata": {},
   "outputs": [],
   "source": [
    "def trusted_setup(d, ec_G1, ec_G2):\n",
    "    tau = random.randint(1, p)      # get a random number tau\n",
    "    powers_of_tau_G1 = generate_powers_of_tau(tau, d, ec_G1)   # Generate powers of tau [G1, [tau]G1, [tau^2]G1, [tau^3]G1, [tau^4]G1]\n",
    "    tauG2 = multiply(ec_G2, int(tau))\n",
    "    return powers_of_tau_G1, tauG2"
   ]
  },
  {
   "cell_type": "code",
   "execution_count": null,
   "id": "86b7eaca-1188-4312-84e6-7e8e7a1089a7",
   "metadata": {},
   "outputs": [],
   "source": []
  }
 ],
 "metadata": {
  "kernelspec": {
   "display_name": "Python 3 (ipykernel)",
   "language": "python",
   "name": "python3"
  },
  "language_info": {
   "codemirror_mode": {
    "name": "ipython",
    "version": 3
   },
   "file_extension": ".py",
   "mimetype": "text/x-python",
   "name": "python",
   "nbconvert_exporter": "python",
   "pygments_lexer": "ipython3",
   "version": "3.11.4"
  }
 },
 "nbformat": 4,
 "nbformat_minor": 5
}
